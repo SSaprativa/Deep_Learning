{
  "nbformat": 4,
  "nbformat_minor": 0,
  "metadata": {
    "colab": {
      "provenance": [],
      "gpuType": "T4",
      "authorship_tag": "ABX9TyNR0IKXfu52aHczD7SE+cW8",
      "include_colab_link": true
    },
    "kernelspec": {
      "name": "python3",
      "display_name": "Python 3"
    },
    "language_info": {
      "name": "python"
    },
    "accelerator": "GPU"
  },
  "cells": [
    {
      "cell_type": "markdown",
      "metadata": {
        "id": "view-in-github",
        "colab_type": "text"
      },
      "source": [
        "<a href=\"https://colab.research.google.com/github/SSaprativa/Deep_Learning/blob/main/CNNpytorch.ipynb\" target=\"_parent\"><img src=\"https://colab.research.google.com/assets/colab-badge.svg\" alt=\"Open In Colab\"/></a>"
      ]
    },
    {
      "cell_type": "code",
      "execution_count": 9,
      "metadata": {
        "id": "o3lX6XBL0cv6"
      },
      "outputs": [],
      "source": [
        "import torch\n",
        "import matplotlib.pyplot as plt\n",
        "import numpy as np\n",
        "import torch.nn as nn\n",
        "import torch.optim as optim"
      ]
    },
    {
      "cell_type": "markdown",
      "source": [
        "## Data Loading"
      ],
      "metadata": {
        "id": "nJaVEy-X2Dpp"
      }
    },
    {
      "cell_type": "code",
      "source": [
        "import torchvision\n",
        "import torchvision.transforms as transforms\n",
        "trainset = torchvision.datasets.CIFAR10(root='./data', train=True,\n",
        "                                        download=True, transform=transforms.ToTensor())"
      ],
      "metadata": {
        "colab": {
          "base_uri": "https://localhost:8080/"
        },
        "id": "aAkVYC4y0itP",
        "outputId": "a5b23b20-c222-462d-92b3-3afbe279bab2"
      },
      "execution_count": 13,
      "outputs": [
        {
          "output_type": "stream",
          "name": "stdout",
          "text": [
            "Downloading https://www.cs.toronto.edu/~kriz/cifar-10-python.tar.gz to ./data/cifar-10-python.tar.gz\n"
          ]
        },
        {
          "output_type": "stream",
          "name": "stderr",
          "text": [
            "100%|██████████| 170498071/170498071 [00:04<00:00, 38980481.01it/s]\n"
          ]
        },
        {
          "output_type": "stream",
          "name": "stdout",
          "text": [
            "Extracting ./data/cifar-10-python.tar.gz to ./data\n"
          ]
        }
      ]
    },
    {
      "cell_type": "code",
      "source": [
        "classes = ('plane','car','bird','cat','deer','dog','frog','horse','ship','truck')"
      ],
      "metadata": {
        "id": "Bg2g0tNC2syh"
      },
      "execution_count": 14,
      "outputs": []
    },
    {
      "cell_type": "code",
      "source": [
        "trainloader = torch.utils.data.DataLoader(trainset, batch_size=4,\n",
        "                                          shuffle=True, num_workers=2)"
      ],
      "metadata": {
        "id": "NwOQ-YZF3Yk2"
      },
      "execution_count": 15,
      "outputs": []
    },
    {
      "cell_type": "code",
      "source": [
        "dataiter = iter(trainloader)\n",
        "images, labels = next(dataiter)\n",
        "print(images.shape)\n",
        "print(images[1].shape)\n",
        "print(labels[1].item()) # 1 th image clss 5 'dog'"
      ],
      "metadata": {
        "colab": {
          "base_uri": "https://localhost:8080/"
        },
        "id": "mfF7rkw63pnp",
        "outputId": "656760b1-16ed-43ed-b0c8-bc003d90d9c1"
      },
      "execution_count": 16,
      "outputs": [
        {
          "output_type": "stream",
          "name": "stdout",
          "text": [
            "torch.Size([4, 3, 32, 32])\n",
            "torch.Size([3, 32, 32])\n",
            "3\n"
          ]
        }
      ]
    },
    {
      "cell_type": "markdown",
      "source": [
        "## Visualizing Data"
      ],
      "metadata": {
        "id": "C5b2qZ_v5A8E"
      }
    },
    {
      "cell_type": "code",
      "source": [
        "#converting the image into numpy array and then plot it\n",
        "img = np.transpose(images[0].numpy(), (1, 2, 0))\n",
        "plt.figure(figsize=(1, 1))\n",
        "plt.imshow(img)\n",
        "plt.show()"
      ],
      "metadata": {
        "colab": {
          "base_uri": "https://localhost:8080/",
          "height": 142
        },
        "id": "d4lU3CkM3-WL",
        "outputId": "7649403b-4350-4923-e68f-08511df7ab7e"
      },
      "execution_count": 55,
      "outputs": [
        {
          "output_type": "display_data",
          "data": {
            "text/plain": [
              "<Figure size 100x100 with 1 Axes>"
            ],
            "image/png": "[encoded data removed]"
          },
          "metadata": {}
        }
      ]
    },
    {
      "cell_type": "code",
      "source": [
        "#converting the image into numpy array and then plot it\n",
        "img = np.transpose(images[1].numpy(), (1, 2, 0))\n",
        "plt.figure(figsize=(1, 1))\n",
        "plt.imshow(img)\n",
        "plt.show()"
      ],
      "metadata": {
        "colab": {
          "base_uri": "https://localhost:8080/",
          "height": 142
        },
        "id": "mLd-jb0t5g9u",
        "outputId": "a941141a-d885-4bb9-e78a-0eb35ff63fd3"
      },
      "execution_count": 56,
      "outputs": [
        {
          "output_type": "display_data",
          "data": {
            "text/plain": [
              "<Figure size 100x100 with 1 Axes>"
            ],
            "image/png": "[encoded data removed]"
          },
          "metadata": {}
        }
      ]
    },
    {
      "cell_type": "code",
      "source": [
        "def imshow(img):\n",
        "    npimg = img.numpy()\n",
        "    plt.imshow(np.transpose(npimg, (1, 2, 0)))\n",
        "    plt.show()"
      ],
      "metadata": {
        "id": "xtdbvtlb6uti"
      },
      "execution_count": 57,
      "outputs": []
    },
    {
      "cell_type": "code",
      "source": [
        "imshow(torchvision.utils.make_grid(images))\n",
        "print(' '.join(classes[labels[j]] for j in range(4)))"
      ],
      "metadata": {
        "colab": {
          "base_uri": "https://localhost:8080/",
          "height": 211
        },
        "id": "8vyiYnjy7WIM",
        "outputId": "6c33454e-465f-4804-841e-0557e4846c1d"
      },
      "execution_count": 58,
      "outputs": [
        {
          "output_type": "display_data",
          "data": {
            "text/plain": [
              "<Figure size 640x480 with 1 Axes>"
            ],
            "image/png": "[encoded data removed]"
          },
          "metadata": {}
        },
        {
          "output_type": "stream",
          "name": "stdout",
          "text": [
            "ship bird dog deer\n"
          ]
        }
      ]
    },
    {
      "cell_type": "markdown",
      "source": [
        "## Single Convolutional layer"
      ],
      "metadata": {
        "id": "ylDkAW6q8gqV"
      }
    },
    {
      "cell_type": "code",
      "source": [
        "import torch.nn as nn\n",
        "\n",
        "class FirstCNN(nn.Module):\n",
        "    def __init__(self):\n",
        "      super(FirstCNN,self).__init__()\n",
        "      self.conv1 = nn.Conv2d(in_channels=3,out_channels=16,kernel_size=3,padding=(1,1),stride=(2,2)) # [4, 3, 32, 32] # rgb = 3 16 kernels of size 3\n",
        "\n",
        "    def forward(self,x):\n",
        "      x = self.conv1(x)\n",
        "      return x"
      ],
      "metadata": {
        "id": "Zqn2FKAa8O4X"
      },
      "execution_count": 59,
      "outputs": []
    },
    {
      "cell_type": "code",
      "source": [
        "net = FirstCNN()"
      ],
      "metadata": {
        "id": "C_SsXAi7_7Yc"
      },
      "execution_count": 60,
      "outputs": []
    },
    {
      "cell_type": "code",
      "source": [
        "out = net(images)\n",
        "print(out.shape)"
      ],
      "metadata": {
        "colab": {
          "base_uri": "https://localhost:8080/"
        },
        "id": "_GDknih8ASRi",
        "outputId": "af64b8d1-2ad2-4e4d-edbf-7f8e0026f823"
      },
      "execution_count": 61,
      "outputs": [
        {
          "output_type": "stream",
          "name": "stdout",
          "text": [
            "torch.Size([4, 16, 16, 16])\n"
          ]
        }
      ]
    },
    {
      "cell_type": "code",
      "source": [
        "for param in net.parameters():\n",
        "    print(param.shape)"
      ],
      "metadata": {
        "colab": {
          "base_uri": "https://localhost:8080/"
        },
        "id": "nutUVsAnAUoZ",
        "outputId": "865e7755-062a-4e2d-a6cc-f77cd19d4962"
      },
      "execution_count": 62,
      "outputs": [
        {
          "output_type": "stream",
          "name": "stdout",
          "text": [
            "torch.Size([16, 3, 3, 3])\n",
            "torch.Size([16])\n"
          ]
        }
      ]
    },
    {
      "cell_type": "code",
      "source": [
        "out1 = out[0,0,:,:].detach().numpy()\n",
        "print(out1.shape)\n",
        "plt.figure(figsize=(1, 1))\n",
        "plt.imshow(out1)\n",
        "plt.show()"
      ],
      "metadata": {
        "colab": {
          "base_uri": "https://localhost:8080/",
          "height": 158
        },
        "id": "NZpHgGoEBRFJ",
        "outputId": "1d7e934f-4b49-4fcf-ce94-ef7506e4da77"
      },
      "execution_count": 63,
      "outputs": [
        {
          "output_type": "stream",
          "name": "stdout",
          "text": [
            "(16, 16)\n"
          ]
        },
        {
          "output_type": "display_data",
          "data": {
            "text/plain": [
              "<Figure size 100x100 with 1 Axes>"
            ],
            "image/png": "[encoded data removed]"
          },
          "metadata": {}
        }
      ]
    },
    {
      "cell_type": "markdown",
      "source": [
        "## Deep CNN"
      ],
      "metadata": {
        "id": "e20YtWxxC8Xy"
      }
    },
    {
      "cell_type": "code",
      "source": [
        "class firtstCNN2(nn.Module):\n",
        "  def __init__(self):\n",
        "    super(firtstCNN2,self).__init__()\n",
        "    self.model = nn.Sequential(\n",
        "                  nn.Conv2d(3,8,3), #(4,3,32,32) -> (4,8,30,30)\n",
        "                  nn.Conv2d(8,16,3)) #(4,8,30,30) ->(4,16,28,28)\n",
        "  def forward(self,x):\n",
        "    x = self.model(x)\n",
        "    return x"
      ],
      "metadata": {
        "id": "XJEik15VBeyM"
      },
      "execution_count": 64,
      "outputs": []
    },
    {
      "cell_type": "code",
      "source": [
        "net = firtstCNN2()\n",
        "out = net(images)\n",
        "print(out.shape)"
      ],
      "metadata": {
        "colab": {
          "base_uri": "https://localhost:8080/"
        },
        "id": "slB1ikpdCHuk",
        "outputId": "f2474204-1fea-48f3-ede3-574bdce98f97"
      },
      "execution_count": 65,
      "outputs": [
        {
          "output_type": "stream",
          "name": "stdout",
          "text": [
            "torch.Size([4, 16, 28, 28])\n"
          ]
        }
      ]
    },
    {
      "cell_type": "code",
      "source": [
        "plt.imshow(out[0,0,:,:].detach().numpy())\n",
        "plt.show()"
      ],
      "metadata": {
        "colab": {
          "base_uri": "https://localhost:8080/",
          "height": 430
        },
        "id": "PTxh83IUC25_",
        "outputId": "d0aadfc5-59d9-4400-99c4-7240c10f7f4e"
      },
      "execution_count": 66,
      "outputs": [
        {
          "output_type": "display_data",
          "data": {
            "text/plain": [
              "<Figure size 640x480 with 1 Axes>"
            ],
            "image/png": "[encoded data removed]"
          },
          "metadata": {}
        }
      ]
    },
    {
      "cell_type": "code",
      "source": [
        "class firstCNN3(nn.Module):\n",
        "  def __init__(self):\n",
        "    super(firstCNN3,self).__init__()\n",
        "    self.model = nn.Sequential(\n",
        "                  nn.Conv2d(3,6,5),           #(4,3,32,32) -> (4,6,28,28)\n",
        "                  nn.AvgPool2d(2,stride=2),   #(4,6,28,28) -> (4,6,14,14)\n",
        "                  nn.Conv2d(6,16,5),          #(4,6,14,14) -> (4,16,10,10)\n",
        "                  nn.AvgPool2d(2,stride=2))   #(4,16,10,10) -> (4,16,5,5)\n",
        "\n",
        "  def forward(self,x):\n",
        "    x = self.model(x)\n",
        "    return x"
      ],
      "metadata": {
        "id": "Rg0Ly52cDZ__"
      },
      "execution_count": 67,
      "outputs": []
    },
    {
      "cell_type": "code",
      "source": [
        "net = firstCNN3()\n",
        "out = net(images)\n",
        "print(out.shape)"
      ],
      "metadata": {
        "id": "0Rn9DN4AExFt",
        "colab": {
          "base_uri": "https://localhost:8080/"
        },
        "outputId": "fe53205a-048e-4c53-9fc0-fc3813a271d5"
      },
      "execution_count": 68,
      "outputs": [
        {
          "output_type": "stream",
          "name": "stdout",
          "text": [
            "torch.Size([4, 16, 5, 5])\n"
          ]
        }
      ]
    },
    {
      "cell_type": "code",
      "source": [
        "plt.imshow(out[0,0,:,:].detach().numpy())\n",
        "plt.show()"
      ],
      "metadata": {
        "colab": {
          "base_uri": "https://localhost:8080/",
          "height": 430
        },
        "id": "xzvA6LN1Wln0",
        "outputId": "903607b0-4577-4d10-e356-b497e41227a8"
      },
      "execution_count": 69,
      "outputs": [
        {
          "output_type": "display_data",
          "data": {
            "text/plain": [
              "<Figure size 640x480 with 1 Axes>"
            ],
            "image/png": "[encoded data removed]"
          },
          "metadata": {}
        }
      ]
    },
    {
      "cell_type": "markdown",
      "source": [
        "## LeNet Network"
      ],
      "metadata": {
        "id": "TF9YRBO8XQZM"
      }
    },
    {
      "cell_type": "code",
      "source": [
        "class LeNet(nn.Module):\n",
        "  def __init__(self):\n",
        "    super(LeNet,self).__init__()\n",
        "    self.cnn_model = nn.Sequential(\n",
        "                    nn.Conv2d(3,6,5),   ##(N,3,32,32)->(N,6,28,28)\n",
        "                    nn.Tanh(),\n",
        "                    nn.AvgPool2d(2,stride=2), ##(N,6,28,28)->(N,6,14,14)\n",
        "                    nn.Conv2d(6,16,5),         ##(N,6,14,14)->(N,16,10,10)\n",
        "                    nn.Tanh(),\n",
        "                    nn.AvgPool2d(2,stride=2)) ##(N,6,10,10)->(N,6,5,5)\n",
        "    self.fc_model = nn.Sequential(\n",
        "                    nn.Linear(16*5*5,120), ##(N,400) -> (N,120)\n",
        "                    nn.Tanh(),\n",
        "                    nn.Linear(120,84),     ##(N,120) -> (N,84)\n",
        "                    nn.Tanh(),\n",
        "                    nn.Linear(84,10))     ##(N,84) -> (N,10)\n",
        "\n",
        "  def forward(self,x):\n",
        "    print(x.shape)\n",
        "    x = self.cnn_model(x)\n",
        "    print(x.shape)\n",
        "    x = x.view(x.size(0),-1)\n",
        "    print(x.shape)\n",
        "    x = self.fc_model(x)\n",
        "    return x"
      ],
      "metadata": {
        "id": "3kSuclUhWyDV"
      },
      "execution_count": 70,
      "outputs": []
    },
    {
      "cell_type": "code",
      "source": [
        "net = LeNet()\n",
        "out = net(images)\n",
        "print(out.shape)"
      ],
      "metadata": {
        "colab": {
          "base_uri": "https://localhost:8080/"
        },
        "id": "q2ATOvMhcwU6",
        "outputId": "2fb6bcf9-4a59-4280-fc7d-3828bdcc402a"
      },
      "execution_count": 71,
      "outputs": [
        {
          "output_type": "stream",
          "name": "stdout",
          "text": [
            "torch.Size([4, 3, 32, 32])\n",
            "torch.Size([4, 16, 5, 5])\n",
            "torch.Size([4, 400])\n",
            "torch.Size([4, 10])\n"
          ]
        }
      ]
    },
    {
      "cell_type": "code",
      "source": [
        "print(out)"
      ],
      "metadata": {
        "colab": {
          "base_uri": "https://localhost:8080/"
        },
        "id": "k27VoJZfdd4R",
        "outputId": "f8c9e7c4-f15a-4c00-b544-176a1e6954d3"
      },
      "execution_count": 72,
      "outputs": [
        {
          "output_type": "stream",
          "name": "stdout",
          "text": [
            "tensor([[ 0.1018, -0.0454,  0.0555,  0.0541, -0.0960,  0.1222,  0.1065, -0.0742,\n",
            "         -0.0375,  0.0034],\n",
            "        [ 0.1072, -0.0392,  0.0693,  0.0619, -0.1217,  0.1458,  0.1294, -0.0932,\n",
            "         -0.0531,  0.0115],\n",
            "        [ 0.1155, -0.0485,  0.0648,  0.0567, -0.1100,  0.1301,  0.1239, -0.0780,\n",
            "         -0.0534,  0.0179],\n",
            "        [ 0.1023, -0.0498,  0.0651,  0.0538, -0.1127,  0.1377,  0.1195, -0.0859,\n",
            "         -0.0505,  0.0091]], grad_fn=<AddmmBackward0>)\n"
          ]
        }
      ]
    },
    {
      "cell_type": "code",
      "source": [
        "max_values,pred_class = torch.max(out.data,1)\n",
        "print(pred_class)"
      ],
      "metadata": {
        "colab": {
          "base_uri": "https://localhost:8080/"
        },
        "id": "Hp8XzvIjdnz8",
        "outputId": "e62cf54f-9550-4a2b-9cbf-3dc2bdd70c90"
      },
      "execution_count": 73,
      "outputs": [
        {
          "output_type": "stream",
          "name": "stdout",
          "text": [
            "tensor([5, 5, 5, 5])\n"
          ]
        }
      ]
    },
    {
      "cell_type": "markdown",
      "source": [
        "## Training LeNet"
      ],
      "metadata": {
        "id": "rjMB-W8deH2Y"
      }
    },
    {
      "cell_type": "code",
      "source": [
        "class LeNet(nn.Module):\n",
        "    def __init__(self):\n",
        "        super(LeNet, self).__init__()\n",
        "        self.cnn_model = nn.Sequential(\n",
        "            nn.Conv2d(3, 6, 5),         # (N, 3, 32, 32) -> (N,  6, 28, 28)\n",
        "            nn.Tanh(),\n",
        "            nn.AvgPool2d(2, stride=2),  # (N, 6, 28, 28) -> (N,  6, 14, 14)\n",
        "            nn.Conv2d(6, 16, 5),        # (N, 6, 14, 14) -> (N, 16, 10, 10)\n",
        "            nn.Tanh(),\n",
        "            nn.AvgPool2d(2, stride=2)   # (N,16, 10, 10) -> (N, 16, 5, 5)\n",
        "        )\n",
        "        self.fc_model = nn.Sequential(\n",
        "            nn.Linear(400,120),         # (N, 400) -> (N, 120)\n",
        "            nn.Tanh(),\n",
        "            nn.Linear(120,84),          # (N, 120) -> (N, 84)\n",
        "            nn.Tanh(),\n",
        "            nn.Linear(84,10)            # (N, 84)  -> (N, 10)\n",
        "        )\n",
        "\n",
        "    def forward(self, x):\n",
        "        x = self.cnn_model(x)\n",
        "        x = x.view(x.size(0), -1)\n",
        "        x = self.fc_model(x)\n",
        "        return x"
      ],
      "metadata": {
        "id": "y8cheyQmuCcY"
      },
      "execution_count": 78,
      "outputs": []
    },
    {
      "cell_type": "code",
      "source": [
        "batch_size = 128\n",
        "trainset = torchvision.datasets.CIFAR10(root='./data', train=True, download=True, transform=transforms.ToTensor())\n",
        "trainloader = torch.utils.data.DataLoader(trainset, batch_size=batch_size, shuffle=True)\n",
        "testset = torchvision.datasets.CIFAR10(root='./data', train=False, download=True, transform=transforms.ToTensor())\n",
        "testloader = torch.utils.data.DataLoader(testset, batch_size=batch_size, shuffle=False)"
      ],
      "metadata": {
        "colab": {
          "base_uri": "https://localhost:8080/"
        },
        "id": "XdEs24bud36v",
        "outputId": "02380748-3f1b-4d6c-e2a7-27b52fbcd2ac"
      },
      "execution_count": 32,
      "outputs": [
        {
          "output_type": "stream",
          "name": "stdout",
          "text": [
            "Files already downloaded and verified\n",
            "Files already downloaded and verified\n"
          ]
        }
      ]
    },
    {
      "cell_type": "code",
      "source": [
        "def evaluation(dataloader):\n",
        "    total, correct = 0, 0\n",
        "    for data in dataloader:\n",
        "        inputs, labels = data\n",
        "        outputs = net(inputs)\n",
        "        _, pred = torch.max(outputs.data, 1)\n",
        "        total += labels.size(0)\n",
        "        correct += (pred == labels).sum().item()\n",
        "    return 100 * correct / total"
      ],
      "metadata": {
        "id": "SCaqFLT2fcHH"
      },
      "execution_count": 80,
      "outputs": []
    },
    {
      "cell_type": "code",
      "source": [
        "net = LeNet()"
      ],
      "metadata": {
        "id": "KMdaqllvgUdH"
      },
      "execution_count": 81,
      "outputs": []
    },
    {
      "cell_type": "code",
      "source": [
        "import torch.optim as optim\n",
        "\n",
        "loss_fn = nn.CrossEntropyLoss()\n",
        "opt = optim.Adam(net.parameters())"
      ],
      "metadata": {
        "id": "PKrzxl0KuSAt"
      },
      "execution_count": 82,
      "outputs": []
    },
    {
      "cell_type": "code",
      "source": [
        "%%time\n",
        "loss_arr = []\n",
        "loss_epoch_arr = []\n",
        "max_epochs = 16\n",
        "\n",
        "for epoch in range(max_epochs):\n",
        "\n",
        "    for i, data in enumerate(trainloader, 0):\n",
        "\n",
        "        inputs, labels = data\n",
        "\n",
        "        opt.zero_grad()\n",
        "\n",
        "        outputs = net(inputs)\n",
        "        loss = loss_fn(outputs, labels)\n",
        "        loss.backward()\n",
        "        opt.step()\n",
        "\n",
        "        loss_arr.append(loss.item())\n",
        "\n",
        "    loss_epoch_arr.append(loss.item())\n",
        "\n",
        "    print('Epoch: %d/%d, Test acc: %0.2f, Train acc: %0.2f' % (epoch, max_epochs, evaluation(testloader), evaluation(trainloader)))\n",
        "\n",
        "\n",
        "plt.plot(loss_epoch_arr)\n",
        "plt.show()"
      ],
      "metadata": {
        "colab": {
          "base_uri": "https://localhost:8080/",
          "height": 751
        },
        "id": "A24IkuhmgxNg",
        "outputId": "7cf46487-4838-4ea3-81a9-e2249a8674d9"
      },
      "execution_count": 83,
      "outputs": [
        {
          "output_type": "stream",
          "name": "stdout",
          "text": [
            "Epoch: 0/16, Test acc: 38.76, Train acc: 38.99\n",
            "Epoch: 1/16, Test acc: 43.85, Train acc: 44.05\n",
            "Epoch: 2/16, Test acc: 46.81, Train acc: 47.39\n",
            "Epoch: 3/16, Test acc: 48.64, Train acc: 49.85\n",
            "Epoch: 4/16, Test acc: 50.81, Train acc: 52.79\n",
            "Epoch: 5/16, Test acc: 51.77, Train acc: 54.32\n",
            "Epoch: 6/16, Test acc: 52.64, Train acc: 55.98\n",
            "Epoch: 7/16, Test acc: 52.84, Train acc: 57.54\n",
            "Epoch: 8/16, Test acc: 53.85, Train acc: 58.62\n",
            "Epoch: 9/16, Test acc: 54.42, Train acc: 60.10\n",
            "Epoch: 10/16, Test acc: 54.38, Train acc: 60.40\n",
            "Epoch: 11/16, Test acc: 54.29, Train acc: 60.89\n",
            "Epoch: 12/16, Test acc: 55.33, Train acc: 63.31\n",
            "Epoch: 13/16, Test acc: 55.28, Train acc: 64.10\n",
            "Epoch: 14/16, Test acc: 55.50, Train acc: 64.74\n",
            "Epoch: 15/16, Test acc: 55.35, Train acc: 65.21\n"
          ]
        },
        {
          "output_type": "display_data",
          "data": {
            "text/plain": [
              "<Figure size 640x480 with 1 Axes>"
            ],
            "image/png": "[encoded data removed]"
          },
          "metadata": {}
        },
        {
          "output_type": "stream",
          "name": "stdout",
          "text": [
            "CPU times: user 10min 47s, sys: 1.64 s, total: 10min 49s\n",
            "Wall time: 10min 56s\n"
          ]
        }
      ]
    },
    {
      "cell_type": "markdown",
      "source": [
        "## Move to GPU"
      ],
      "metadata": {
        "id": "8zQLsl_szkiL"
      }
    },
    {
      "cell_type": "code",
      "source": [
        "device = torch.device(\"cuda\" if torch.cuda.is_available() else \"cpu\")\n",
        "print(device)"
      ],
      "metadata": {
        "colab": {
          "base_uri": "https://localhost:8080/"
        },
        "id": "wL4aae0VhTAB",
        "outputId": "b54399b3-8be4-4597-a8bd-7cb71f61fce8"
      },
      "execution_count": 3,
      "outputs": [
        {
          "output_type": "stream",
          "name": "stdout",
          "text": [
            "cuda\n"
          ]
        }
      ]
    },
    {
      "cell_type": "code",
      "source": [
        "class LeNet(nn.Module):\n",
        "    def __init__(self):\n",
        "        super(LeNet, self).__init__()\n",
        "        self.cnn_model = nn.Sequential(\n",
        "            nn.Conv2d(3, 6, 5),         # (N, 3, 32, 32) -> (N,  6, 28, 28)\n",
        "            nn.Tanh(),\n",
        "            nn.AvgPool2d(2, stride=2),  # (N, 6, 28, 28) -> (N,  6, 14, 14)\n",
        "            nn.Conv2d(6, 16, 5),        # (N, 6, 14, 14) -> (N, 16, 10, 10)\n",
        "            nn.Tanh(),\n",
        "            nn.AvgPool2d(2, stride=2)   # (N,16, 10, 10) -> (N, 16, 5, 5)\n",
        "        )\n",
        "        self.fc_model = nn.Sequential(\n",
        "            nn.Linear(400,120),         # (N, 400) -> (N, 120)\n",
        "            nn.Tanh(),\n",
        "            nn.Linear(120,84),          # (N, 120) -> (N, 84)\n",
        "            nn.Tanh(),\n",
        "            nn.Linear(84,10)            # (N, 84)  -> (N, 10)\n",
        "        )\n",
        "\n",
        "    def forward(self, x):\n",
        "        x = self.cnn_model(x)\n",
        "        x = x.view(x.size(0), -1)\n",
        "        x = self.fc_model(x)\n",
        "        return x"
      ],
      "metadata": {
        "id": "zEqKU8jrzofV"
      },
      "execution_count": 6,
      "outputs": []
    },
    {
      "cell_type": "code",
      "source": [
        "def evaluation(dataloader):\n",
        "    total, correct = 0, 0\n",
        "    for data in dataloader:\n",
        "        inputs, labels = data\n",
        "        inputs, labels = inputs.to(device), labels.to(device)\n",
        "        outputs = net(inputs)\n",
        "        _, pred = torch.max(outputs.data, 1)\n",
        "        total += labels.size(0)\n",
        "        correct += (pred == labels).sum().item()\n",
        "    return 100 * correct / total"
      ],
      "metadata": {
        "id": "-0yN78s10B-B"
      },
      "execution_count": 7,
      "outputs": []
    },
    {
      "cell_type": "code",
      "source": [
        "net = LeNet().to(device)\n",
        "loss_fn = nn.CrossEntropyLoss()\n",
        "opt = optim.Adam(net.parameters())"
      ],
      "metadata": {
        "id": "g0lBRTcM0RHK"
      },
      "execution_count": 10,
      "outputs": []
    },
    {
      "cell_type": "code",
      "source": [
        "%%time\n",
        "max_epochs = 16\n",
        "\n",
        "for epoch in range(max_epochs):\n",
        "\n",
        "    for i, data in enumerate(trainloader, 0):\n",
        "\n",
        "        inputs, labels = data\n",
        "        inputs, labels = inputs.to(device), labels.to(device)\n",
        "\n",
        "        opt.zero_grad()\n",
        "\n",
        "        outputs = net(inputs)\n",
        "        loss = loss_fn(outputs, labels)\n",
        "        loss.backward()\n",
        "        opt.step()\n",
        "\n",
        "    print('Epoch: %d/%d' % (epoch, max_epochs))"
      ],
      "metadata": {
        "colab": {
          "base_uri": "https://localhost:8080/"
        },
        "id": "yxoMFS9C0Wzu",
        "outputId": "d4514909-a40e-4416-9226-91c8faefa06b"
      },
      "execution_count": 17,
      "outputs": [
        {
          "output_type": "stream",
          "name": "stdout",
          "text": [
            "Epoch: 0/16\n",
            "Epoch: 1/16\n",
            "Epoch: 2/16\n",
            "Epoch: 3/16\n",
            "Epoch: 4/16\n",
            "Epoch: 5/16\n",
            "Epoch: 6/16\n",
            "Epoch: 7/16\n",
            "Epoch: 8/16\n",
            "Epoch: 9/16\n",
            "Epoch: 10/16\n",
            "Epoch: 11/16\n",
            "Epoch: 12/16\n",
            "Epoch: 13/16\n",
            "Epoch: 14/16\n",
            "Epoch: 15/16\n",
            "CPU times: user 11min 33s, sys: 1min 14s, total: 12min 48s\n",
            "Wall time: 15min 38s\n"
          ]
        }
      ]
    },
    {
      "cell_type": "markdown",
      "source": [
        "## Basic Visualization"
      ],
      "metadata": {
        "id": "fKAR3OkH1Ai4"
      }
    },
    {
      "cell_type": "code",
      "source": [
        "import matplotlib.pyplot as plt\n",
        "import torchvision\n",
        "\n",
        "# Assuming 'images' is a PyTorch tensor as per your global variables\n",
        "grid = torchvision.utils.make_grid(images)\n",
        "\n",
        "# Convert the tensor to a NumPy array for compatibility with matplotlib\n",
        "grid_np = grid.permute(1, 2, 0).numpy()\n",
        "\n",
        "plt.imshow(grid_np)\n",
        "plt.show()"
      ],
      "metadata": {
        "colab": {
          "base_uri": "https://localhost:8080/",
          "height": 193
        },
        "id": "G_LYOca20t_p",
        "outputId": "a2fbc10b-b809-4a9d-9132-d7169e1a10de"
      },
      "execution_count": 20,
      "outputs": [
        {
          "output_type": "display_data",
          "data": {
            "text/plain": [
              "<Figure size 640x480 with 1 Axes>"
            ],
            "image/png": "[encoded data removed]"
          },
          "metadata": {}
        }
      ]
    },
    {
      "cell_type": "code",
      "source": [
        "net = net.to(\"cpu\")"
      ],
      "metadata": {
        "id": "J39aXKKT5BwF"
      },
      "execution_count": 21,
      "outputs": []
    },
    {
      "cell_type": "code",
      "source": [
        "out = net(images)\n",
        "print(out.shape)"
      ],
      "metadata": {
        "colab": {
          "base_uri": "https://localhost:8080/"
        },
        "id": "1foOCfIQ5e-J",
        "outputId": "aba2cc5f-6465-42b1-a072-5d92eca1378b"
      },
      "execution_count": 22,
      "outputs": [
        {
          "output_type": "stream",
          "name": "stdout",
          "text": [
            "torch.Size([4, 10])\n"
          ]
        }
      ]
    },
    {
      "cell_type": "code",
      "source": [
        "out = net.cnn_model[0](images)\n",
        "print(out.shape)"
      ],
      "metadata": {
        "colab": {
          "base_uri": "https://localhost:8080/"
        },
        "id": "SkHYXz635iSc",
        "outputId": "a2b55845-233c-42d1-e4a8-15c4ffc10733"
      },
      "execution_count": 23,
      "outputs": [
        {
          "output_type": "stream",
          "name": "stdout",
          "text": [
            "torch.Size([4, 6, 28, 28])\n"
          ]
        }
      ]
    },
    {
      "cell_type": "code",
      "source": [
        "import matplotlib.pyplot as plt\n",
        "image_id = 3\n",
        "plt.figure(figsize = (2,2))\n",
        "plt.imshow(images[image_id,].permute(1, 2, 0)) # Transpose the image for matplotlib\n",
        "plt.show()"
      ],
      "metadata": {
        "colab": {
          "base_uri": "https://localhost:8080/",
          "height": 217
        },
        "id": "6ySgf-SY5sI3",
        "outputId": "fcba177e-a7bb-42ec-8b08-96f1fa76a176"
      },
      "execution_count": 27,
      "outputs": [
        {
          "output_type": "display_data",
          "data": {
            "text/plain": [
              "<Figure size 200x200 with 1 Axes>"
            ],
            "image/png": "[encoded data removed]"
          },
          "metadata": {}
        }
      ]
    },
    {
      "cell_type": "code",
      "source": [
        "plt.figure(figsize = (6,6))\n",
        "plt.subplot(321)\n",
        "for i in range(6):\n",
        "    ax1 = plt.subplot(3, 2, i+1)\n",
        "    plt.imshow(out[image_id, i, :, :].detach().numpy(), cmap=\"binary\")\n",
        "plt.show()"
      ],
      "metadata": {
        "colab": {
          "base_uri": "https://localhost:8080/",
          "height": 525
        },
        "id": "Dlvb8d1B588X",
        "outputId": "e53b1062-c882-4654-e098-979f653ad57c"
      },
      "execution_count": 28,
      "outputs": [
        {
          "output_type": "display_data",
          "data": {
            "text/plain": [
              "<Figure size 600x600 with 6 Axes>"
            ],
            "image/png": "[encoded data removed]"
          },
          "metadata": {}
        }
      ]
    },
    {
      "cell_type": "code",
      "source": [],
      "metadata": {
        "id": "IN-CYFzD6e8a"
      },
      "execution_count": null,
      "outputs": []
    }
  ]
}